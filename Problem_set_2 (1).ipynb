{
 "cells": [
  {
   "cell_type": "markdown",
   "id": "51beec33",
   "metadata": {},
   "source": [
    "# Question 1\n",
    "\n",
    "Consider the following Python module:\n",
    "a = 0\n",
    "def b():\n",
    " global a\n",
    " a = c(a)\n",
    "def c(a):\n",
    " return a + 2\n",
    "After importing the module into the interpreter, you execute:\n",
    ">>> b()\n",
    ">>> b()\n",
    ">>> b()\n",
    ">>> a\n",
    "?\n",
    "What value is displayed when the last expression (a) is evaluated? Explain your\n",
    "answer by indicating what happens in every executed statement."
   ]
  },
  {
   "cell_type": "code",
   "execution_count": 48,
   "id": "5988de8a",
   "metadata": {},
   "outputs": [
    {
     "name": "stdout",
     "output_type": "stream",
     "text": [
      "None\n",
      "None\n",
      "None\n",
      "6\n"
     ]
    }
   ],
   "source": [
    "a = 0\n",
    "def b():\n",
    " global a \n",
    " a = c(a)\n",
    "def c(a):\n",
    " return a + 2\n",
    "print(b())\n",
    "#print(a)\n",
    "print(b())\n",
    "#print(a)\n",
    "print(b())\n",
    "print(a)"
   ]
  },
  {
   "cell_type": "markdown",
   "id": "e79281ae",
   "metadata": {},
   "source": [
    "# Solution:\n",
    "\n",
    "The Value of 'a' at the last is 6. \n",
    "Everytime the function b() is called, 'a' value gets incremented by '2' as it is declared global within the module.\n",
    "\n",
    "print(b())\n",
    "print(a)\n",
    "print(b())\n",
    "print(a)\n",
    "print(b())\n",
    "print(a)\n",
    "\n",
    "Printing the value of 'a' after each execution of module wil will help understand the increment.\n",
    "After executing for the first time b() module, 'a' is declared global and assigned a value of 2.\n",
    "After execution of second time, 'a' becomes 4 ( gets incremented by 2 as it is already declared global).\n",
    "After executing third time, 'a' becomes 6.\n",
    "Finally when 'a' is printed , it dispalys the value 6. (It wont consider the a=0 local variable)."
   ]
  },
  {
   "cell_type": "markdown",
   "id": "9b3a87a5",
   "metadata": {},
   "source": [
    "# Question 2\n",
    "\n",
    "\n",
    "Function fileLength(), given to you, takes the name of a file as input and returns\n",
    "the length of the file:\n",
    ">>> fileLength('midterm.py')\n",
    "284\n",
    ">>> fileLength('idterm.py')\n",
    "Traceback (most recent call last):\n",
    "File \"<pyshell#34>\", line 1, in <module>\n",
    " fileLength('idterm.py')\n",
    "File \"/Users/me/midterm.py\", line 3, in fileLength\n",
    " infile = open(filename)\n",
    "FileNotFoundError: [Errno 2] No such file or directory:\n",
    "'idterm.py'\n",
    "As shown above, if the file cannot be found by the interpreter or if it cannot be read\n",
    "as a text file, an exception will be raised. Modify function fileLength() so that a\n",
    "friendly message is printed instead:\n",
    ">>> fileLength('midterm.py')\n",
    "358\n",
    ">>> fileLength('idterm.py')\n",
    "File idterm.py not found.\n"
   ]
  },
  {
   "cell_type": "code",
   "execution_count": 49,
   "id": "43180e97",
   "metadata": {},
   "outputs": [
    {
     "name": "stdout",
     "output_type": "stream",
     "text": [
      "The file midterm.py is not found\n"
     ]
    }
   ],
   "source": [
    "# Solution\n",
    "\n",
    "def file_length(file_name):\n",
    "    \n",
    "    try:\n",
    "        file = open(file_name)\n",
    "        contents = file.read()\n",
    "        file.close()\n",
    "        print(len(contents))\n",
    "    except:\n",
    "        print(\"The file {} is not found\".format(file_name))\n",
    "        \n",
    "    #except FileNotFoundError: (if exact errors are known, exceptions can be handled for each error.) \n",
    "    #In this given question, as all exceptions had to be handled in common with a friendly message, just an except without \n",
    "    # specific error handling should work.\n",
    "    \n",
    "        \n",
    "file_length('midterm.py')"
   ]
  },
  {
   "cell_type": "markdown",
   "id": "11ab70e8",
   "metadata": {},
   "source": [
    "# Question 3\n",
    "Write a class named Marsupial that can be used as shown below:\n",
    ">>> m = Marsupial()\n",
    ">>> m.put_in_pouch('doll')\n",
    ">>> m.put_in_pouch('firetruck')\n",
    ">>> m.put_in_pouch('kitten')\n",
    ">>> m.pouch_contents()\n",
    "['doll', 'firetruck', 'kitten']\n",
    "\n",
    "Now write a class named Kangaroo as a subclass of Marsupial that inherits all the\n",
    "attributes of Marsupial and also:\n",
    "a. extends the Marsupial __init__ constructor to take, as input, the\n",
    "coordinates x and y of the Kangaroo object,\n",
    "b. supports method jump that takes number values dx and dy as input and\n",
    "moves the kangaroo by dx units along the x-axis and by dy units along the yaxis, and\n",
    "c. overloads the __str__ operator so it behaves as shown below.\n",
    ">>> k = Kangaroo(0,0)\n",
    ">>> print(k)\n",
    "I am a Kangaroo located at coordinates (0,0)\n",
    ">>> k.put_in_pouch('doll')\n",
    ">>> k.put_in_pouch('firetruck')\n",
    ">>> k.put_in_pouch('kitten')\n",
    ">>> k.pouch_contents()\n",
    "['doll', 'firetruck', 'kitten']\n",
    ">>> k.jump(1,0)\n",
    ">>> k.jump(1,0)\n",
    ">>> k.jump(1,0)\n",
    ">>> print(k)\n",
    "I am a Kangaroo located at coordinates (3,0)"
   ]
  },
  {
   "cell_type": "code",
   "execution_count": 50,
   "id": "9334676d",
   "metadata": {},
   "outputs": [
    {
     "data": {
      "text/plain": [
       "['doll', 'firetruck', 'kitten']"
      ]
     },
     "execution_count": 50,
     "metadata": {},
     "output_type": "execute_result"
    }
   ],
   "source": [
    "class Marsupial:\n",
    "    \n",
    "    \n",
    "    global lst\n",
    "    lst=[]\n",
    "    def put_in_pouch(self,toy):\n",
    "        lst.append(toy)\n",
    "        \n",
    "    def pouch_contents(self):\n",
    "        return lst\n",
    "    \n",
    "m = Marsupial()\n",
    "m.put_in_pouch('doll')\n",
    "m.put_in_pouch('firetruck')\n",
    "m.put_in_pouch('kitten')\n",
    "m.pouch_contents()"
   ]
  },
  {
   "cell_type": "code",
   "execution_count": 54,
   "id": "1ae41212",
   "metadata": {},
   "outputs": [
    {
     "name": "stdout",
     "output_type": "stream",
     "text": [
      "I am a Kangaroo located at coordinates (0,0)\n"
     ]
    },
    {
     "data": {
      "text/plain": [
       "['doll', 'firetruck', 'kitten']"
      ]
     },
     "execution_count": 54,
     "metadata": {},
     "output_type": "execute_result"
    }
   ],
   "source": [
    "class Marsupial:\n",
    "    \n",
    "    \n",
    "    global lst\n",
    "    lst=[]\n",
    "          \n",
    "    def _init_(self,xcoord,ycoord):\n",
    "        self.x=xcoord\n",
    "        self.y=ycoord\n",
    "    \n",
    "    def __str__(self):\n",
    "        return ('I am a Kangaroo located at coordinates ({},{})'.format(self.x,self.y))    \n",
    "    \n",
    "    def put_in_pouch(self,toy):\n",
    "        lst.append(toy)\n",
    "        \n",
    "    def pouch_contents(self):\n",
    "        return lst\n",
    "    \n",
    "class Kangaroo( Marsupial ):\n",
    "    \n",
    "    def __init__(self,xcoord,ycoord):\n",
    "        Marsupial._init_(self,xcoord,ycoord)\n",
    "        \n",
    "    def jump (self,dx,dy):\n",
    "        self.x+=dx\n",
    "        self.y+=dy\n",
    "        \n",
    "k = Kangaroo(0,0)\n",
    "print(k)\n",
    "k.put_in_pouch('doll')\n",
    "k.put_in_pouch('firetruck')\n",
    "k.put_in_pouch('kitten')\n",
    "k.pouch_contents()\n",
    "\n"
   ]
  },
  {
   "cell_type": "code",
   "execution_count": 55,
   "id": "a1a48879",
   "metadata": {},
   "outputs": [
    {
     "name": "stdout",
     "output_type": "stream",
     "text": [
      "I am a Kangaroo located at coordinates (4,0)\n"
     ]
    }
   ],
   "source": [
    "k.jump(1,0)\n",
    "k.jump(2,0)\n",
    "k.jump(1,0)\n",
    "print(k)"
   ]
  },
  {
   "cell_type": "markdown",
   "id": "d153f7f8",
   "metadata": {},
   "source": [
    "# Question 4\n",
    "Write function collatz() that takes a positive integer x as input and prints the\n",
    "Collatz sequence starting at x. A Collatz sequence is obtained by repeatedly applying\n",
    "this rule to the previous number x in the sequence:\n",
    "x = {\n",
    "𝑥/2 𝑖𝑓 𝑥 𝑖𝑠 𝑒𝑣𝑒𝑛\n",
    "3𝑥 + 1 𝑖𝑓 𝑥 𝑖𝑠 𝑜𝑑𝑑\n",
    "Your function should stop when the sequence gets to number 1. Your\n",
    "implementation must be recursive, without any loops.\n",
    "    \n",
    ">>> collatz(1)\n",
    "1\n",
    ">>> collatz(10)\n",
    "10\n",
    "5\n",
    "16\n",
    "8\n",
    "4\n",
    "2\n",
    "1\n"
   ]
  },
  {
   "cell_type": "code",
   "execution_count": 56,
   "id": "e8fddd07",
   "metadata": {},
   "outputs": [
    {
     "name": "stdout",
     "output_type": "stream",
     "text": [
      "10\n",
      "5\n",
      "16\n",
      "8\n",
      "4\n",
      "2\n",
      "1\n"
     ]
    }
   ],
   "source": [
    "def collatz(n):\n",
    "    \n",
    "    print (int(n))\n",
    "    \n",
    "    while(n>1):\n",
    "        if(n%2==0):\n",
    "            collatz(n/2)\n",
    "            \n",
    "            break\n",
    "        else:\n",
    "            collatz((3*n)+1)\n",
    "            \n",
    "            break\n",
    "    \n",
    "\n",
    "collatz(10)\n",
    "    "
   ]
  },
  {
   "cell_type": "markdown",
   "id": "41570697",
   "metadata": {},
   "source": [
    "# Question 5:\n",
    "Write a recursive method binary() that takes a non-negative\n",
    "integer n and prints the binary representation of integer n.\n",
    ">>> binary(0)\n",
    "0\n",
    ">>> binary(1)\n",
    "1\n",
    ">>> binary(3)\n",
    "11\n",
    ">>> binary(9)\n",
    "1001"
   ]
  },
  {
   "cell_type": "code",
   "execution_count": 57,
   "id": "352b8e86",
   "metadata": {},
   "outputs": [
    {
     "name": "stdout",
     "output_type": "stream",
     "text": [
      "1001"
     ]
    }
   ],
   "source": [
    "def binary(n):\n",
    "    if (n>1):\n",
    "        binary (n//2)\n",
    "    print (n%2, end=\"\")\n",
    "   \n",
    "binary(9)"
   ]
  },
  {
   "cell_type": "markdown",
   "id": "960c8ff0",
   "metadata": {},
   "source": [
    "# Question :6\n",
    "\n",
    "Implement a class named HeadingParser that can be used to parse an HTML\n",
    "document, and retrieve and print all the headings in the document. You should\n",
    "implement your class as a subclass of HTMLParser, defined in Standard Library\n",
    "module html.parser. When fed a string containing HTML code, your class should\n",
    "print the headings, one per line and in the order in which they appear in the\n",
    "document. Each heading should be indented as follows: an h1 heading should have\n",
    "    indentation 0, and h2 heading should have indentation 1, etc. Test your\n",
    "implementation using w3c.html.\n",
    ">>> infile = open('w3c.html')\n",
    ">>> content = infile.read()\n",
    ">>> infile.close()\n",
    ">>> hp = HeadingParser()\n",
    ">>> hp.feed(content)\n",
    "W3C Mission\n",
    "Principles"
   ]
  },
  {
   "cell_type": "code",
   "execution_count": 58,
   "id": "7a4caa4a",
   "metadata": {},
   "outputs": [],
   "source": [
    "from html.parser import HTMLParser\n",
    "class HeadingParser (HTMLParser):\n",
    "    def handle_starttag(self, tag, attrs):\n",
    "        if tag =='h1' or 'h2' :\n",
    "            print(tag)\n",
    "        \n"
   ]
  },
  {
   "cell_type": "code",
   "execution_count": 59,
   "id": "ab70ae26",
   "metadata": {},
   "outputs": [
    {
     "name": "stdout",
     "output_type": "stream",
     "text": [
      "html\n",
      "head\n",
      "meta\n",
      "meta\n",
      "title\n",
      "meta\n",
      "meta\n",
      "link\n",
      "body\n",
      "h1\n",
      "h2\n"
     ]
    }
   ],
   "source": [
    "infile = open('w3c.html')\n",
    "content = infile.read()\n",
    "infile.close()\n",
    "hp = HeadingParser()\n",
    "hp.feed(content)"
   ]
  },
  {
   "cell_type": "markdown",
   "id": "4ce183e5",
   "metadata": {},
   "source": [
    "# Question 7\n",
    "Implement recursive function webdir() that takes as input: a URL (as a string) and\n",
    "non-negative integers depth and indent. Your function should visit every web\n",
    "page reachable from the starting URL web page in depth clicks or less, and print\n",
    "each web page's URL. As shown below, indentation, specified by indent, should\n",
    "be used to indicate the depth of a URL.\n",
    ">>>\n",
    "webdir('http://reed.cs.depaul.edu/lperkovic/csc242/test1.html'\n",
    ", 2, 0)\n",
    "http://reed.cs.depaul.edu/lperkovic/csc242/test1.html\n",
    " http://reed.cs.depaul.edu/lperkovic/csc242/test2.html\n",
    " http://reed.cs.depaul.edu/lperkovic/csc242/test4.html\n",
    " http://reed.cs.depaul.edu/lperkovic/csc242/test3.html\n",
    " http://reed.cs.depaul.edu/lperkovic/csc242/test4.html"
   ]
  },
  {
   "cell_type": "code",
   "execution_count": 61,
   "id": "a92b4fee",
   "metadata": {},
   "outputs": [
    {
     "name": "stdout",
     "output_type": "stream",
     "text": [
      "http://reed.cs.depaul.edu/lperkovic/csc242/test1.html\n"
     ]
    }
   ],
   "source": [
    "from urllib.request import urlopen\n",
    "from urllib.parse import urljoin\n",
    "\n",
    "from html.parser import HTMLParser\n",
    "\n",
    "def webdir(url,dep,intend):\n",
    "    print(url)\n",
    "    \n",
    "    \n",
    "webdir('http://reed.cs.depaul.edu/lperkovic/csc242/test1.html', 2, 0)"
   ]
  },
  {
   "cell_type": "markdown",
   "id": "e1ca7b3f",
   "metadata": {},
   "source": [
    "# Question 8\n",
    "Write SQL queries on the below database table that return:\n",
    "a) All the temperature data.\n",
    "b) All the cities, but without repetition.\n",
    "c) All the records for India.\n",
    "d) All the Fall records\n",
    "e) The city, country, and season for which the average rainfall is between 200\n",
    "and 400 millimeters.\n",
    "f) The city and country for which the average Fall temperature is above 20\n",
    "degrees, in increasing temperature order.\n",
    "g) The total annual rainfall for Cairo.\n",
    "h) The total rainfall for each season.\n"
   ]
  },
  {
   "cell_type": "markdown",
   "id": "c741fc33",
   "metadata": {},
   "source": [
    "Assume table name to be Rainfalltable\n",
    "#only the sql queries to return the values from db are mentioned below\n",
    "\n",
    "%%sql\n",
    "\n",
    "a) SELECT Temperature FROM  Rainfalltable\n",
    "\n",
    "b) SELECT Distinct FROM Rainfalltable\n",
    "\n",
    "c) SELECT * FROM Rainfalltable\n",
    "    WHERE Country = 'India'\n",
    "    \n",
    "d) SELECT * FROM Rainfalltable\n",
    "    WHERE Season = 'Fall'\n",
    "    \n",
    "e) SELECT City, Country, Season FROM Rainfalltable\n",
    "    WHERE Rainfall BETWEEN 200 and 400\n",
    "    \n",
    "f) SELECT City,Country FROM Rainfalltable\n",
    "    WHERE Season='Fall' AND Temperature > 20\n",
    "    ORDER by Temperature\n",
    "    \n",
    "g) SELECT SUM(Rainfall) FROM Rainfalltable\n",
    "    WHERE City='Cairo'\n",
    "    \n",
    "h) SELECT SUM(Rainfall) FROM Rainfalltable\n",
    "    GROUP by Season"
   ]
  },
  {
   "cell_type": "markdown",
   "id": "dcf90881",
   "metadata": {},
   "source": [
    "# Question 9:\n",
    "Suppose list words is defined as follows:\n",
    ">>> words = ['The', 'quick', 'brown', 'fox', 'jumps', 'over',\n",
    "'the', 'lazy', 'dog']\n",
    "Write list comprehension expressions that use list words and generate the following\n",
    "lists:\n",
    "a) ['THE', 'QUICK', 'BROWN', 'FOX', 'JUMPS', 'OVER', 'THE',\n",
    "'LAZY', 'DOG']\n",
    "b) ['the', 'quick', 'brown', 'fox', 'jumps', 'over', 'the',\n",
    "'lazy', 'dog']\n",
    "c) [3, 5, 5, 3, 5, 4, 3, 4, 3] (the list of lengths of words in list\n",
    "words).\n",
    "d) [['THE', 'the', 3], ['QUICK', 'quick', 5], ['BROWN',\n",
    "'brown', 5], ['FOX', 'fox', 3], ['JUMPS', 'jumps', 5],\n",
    "['OVER', 'over', 4], ['THE', 'the', 3], ['LAZY', 'lazy',\n",
    "4], ['DOG', 'dog', 3]] (the list containing a list for every word of list\n",
    "words, where each list contains the word in uppercase and lowercase and the\n",
    "length of the word.)\n",
    "e) ['The', 'quick', 'brown', 'fox', 'jumps', 'over', 'the',\n",
    "'lazy', 'dog'] (the list of words in list words containing 4 or more\n",
    "characters.)"
   ]
  },
  {
   "cell_type": "code",
   "execution_count": 60,
   "id": "f8ba9790",
   "metadata": {},
   "outputs": [
    {
     "name": "stdout",
     "output_type": "stream",
     "text": [
      "Given Question : ['The', 'quick', 'brown', 'fox', 'jumps', 'over', 'the', 'lazy', 'dog']\n",
      "Question a) : ['THE', 'QUICK', 'BROWN', 'FOX', 'JUMPS', 'OVER', 'THE', 'LAZY', 'DOG']\n",
      "Question b) : ['the', 'quick', 'brown', 'fox', 'jumps', 'over', 'the', 'lazy', 'dog']\n",
      "Question c) : [3, 5, 5, 3, 5, 4, 3, 4, 3]\n",
      "Question d) : [['THE', 'the', 3], ['QUICK', 'quick', 5], ['BROWN', 'brown', 5], ['FOX', 'fox', 3], ['JUMPS', 'jumps', 5], ['OVER', 'over', 4], ['THE', 'the', 3], ['LAZY', 'lazy', 4], ['DOG', 'dog', 3]]\n",
      "Question e) : ['quick', 'brown', 'jumps', 'over', 'lazy']\n"
     ]
    }
   ],
   "source": [
    "words = ['The', 'quick', 'brown', 'fox', 'jumps', 'over',\n",
    "'the', 'lazy', 'dog']\n",
    "print (\"Given Question : {}\".format(words))\n",
    "newwords=[word.upper() for word in words]\n",
    "print (\"Question a) : {}\".format(newwords))\n",
    "newwords=[word.lower() for word in words]\n",
    "print (\"Question b) : {}\".format(newwords))\n",
    "newwords=[len(word) for word in words]\n",
    "print (\"Question c) : {}\".format(newwords))\n",
    "newwords=[[word.upper(),word.lower(),len(word)] for word in words]\n",
    "print (\"Question d) : {}\".format(newwords))\n",
    "newwords=[word for word in words if len(word)>3]\n",
    "print (\"Question e) : {}\".format(newwords))"
   ]
  }
 ],
 "metadata": {
  "kernelspec": {
   "display_name": "Python 3",
   "language": "python",
   "name": "python3"
  },
  "language_info": {
   "codemirror_mode": {
    "name": "ipython",
    "version": 3
   },
   "file_extension": ".py",
   "mimetype": "text/x-python",
   "name": "python",
   "nbconvert_exporter": "python",
   "pygments_lexer": "ipython3",
   "version": "3.8.8"
  }
 },
 "nbformat": 4,
 "nbformat_minor": 5
}
